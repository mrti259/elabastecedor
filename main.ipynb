{
 "cells": [
  {
   "cell_type": "code",
   "execution_count": null,
   "id": "ab75f1b7-1148-4905-a751-8c44b06775e6",
   "metadata": {},
   "outputs": [],
   "source": [
    "from datetime import datetime\n",
    "\n",
    "prefix = f\"data/{datetime.now():%Y%m%d}\"\n",
    "print(prefix)"
   ]
  },
  {
   "cell_type": "code",
   "execution_count": null,
   "id": "24806835-906b-441b-a62f-03405d041489",
   "metadata": {},
   "outputs": [],
   "source": [
    "import requests\n",
    "\n",
    "url = \"https://www.elabastecedor.com.ar/\"\n",
    "\n",
    "with requests.get(url) as response:\n",
    "    response.raise_for_status()\n",
    "    content = response.text\n",
    "    cookie = response.headers[\"Set-Cookie\"]"
   ]
  },
  {
   "cell_type": "code",
   "execution_count": null,
   "id": "c98bad18-1343-4aed-a0ab-b405a5347d1c",
   "metadata": {},
   "outputs": [],
   "source": [
    "import re\n",
    "\n",
    "routes_results = re.findall(\"<a href='([^']+)'><b>([^<]+)</b></a>\", content)"
   ]
  },
  {
   "cell_type": "code",
   "execution_count": null,
   "id": "b2b0da01-f3ce-4e12-8775-cb3e59c96c75",
   "metadata": {},
   "outputs": [],
   "source": [
    "routes = {}\n",
    "for route_url, route_name in routes_results:\n",
    "    routes[route_name.strip()] = route_url"
   ]
  },
  {
   "cell_type": "code",
   "execution_count": null,
   "id": "0604b2d8-5e4e-404c-9155-7bf31a763ac2",
   "metadata": {},
   "outputs": [],
   "source": [
    "headers = {\n",
    "    \"Cookie\": cookie,\n",
    "    \"Upgrade-Insecure-Requests\": \"1\"\n",
    "}"
   ]
  },
  {
   "cell_type": "code",
   "execution_count": null,
   "id": "10e1f34d-5478-4d63-a2b7-0a2da489aab5",
   "metadata": {},
   "outputs": [],
   "source": [
    "def get_products(route_name, route_url):\n",
    "    products = []\n",
    "\n",
    "    print(route_url)\n",
    "    with requests.get(url + route_url, headers=headers) as response:\n",
    "        response.raise_for_status()\n",
    "        content = response.text\n",
    "        \n",
    "    products_pattern = \"<form data-codigo='([^']+)' data-marca='([^']+)' data-nombre='([^']+)' data-id='([^']+)' data-precio='([^']+)' class='produItem' name='form1' method='post'>\"\n",
    "    results = re.findall(products_pattern, content)\n",
    "    for codigo, marca, nombre, id, precio in results:\n",
    "        products.append(dict(\n",
    "            id=id,\n",
    "            codigo=codigo,\n",
    "            marca=marca,\n",
    "            nombre=nombre,\n",
    "            precio=float(precio.replace(\",\", \"\")),\n",
    "            categoria=route_name,\n",
    "        ))\n",
    "        \n",
    "    pagination_pattern = \"class=\\\"active\\\"> \\d+ </a></li><li> <a href=\\\"([^\\\"]+)\\\"> \\d+ </a>\"\n",
    "    pages = re.findall(pagination_pattern, content)\n",
    "    if any(pages):\n",
    "        products.extend(get_products(route_name, pages[0]))\n",
    "\n",
    "    return products\n",
    "\n",
    "products = []\n",
    "for route_name, route_url in routes.items():\n",
    "    products.extend(get_products(route_name, route_url))"
   ]
  },
  {
   "cell_type": "code",
   "execution_count": null,
   "id": "9b42677d-d7b7-45cd-8025-9d533ce53e5b",
   "metadata": {},
   "outputs": [],
   "source": [
    "import pandas as pd\n",
    "\n",
    "df = pd.DataFrame(products)\n",
    "df.drop_duplicates(inplace=True)\n",
    "df.to_csv(f\"{prefix}_products.csv\", header=True, index=False)"
   ]
  }
 ],
 "metadata": {
  "kernelspec": {
   "display_name": "Python 3 (ipykernel)",
   "language": "python",
   "name": "python3"
  },
  "language_info": {
   "codemirror_mode": {
    "name": "ipython",
    "version": 3
   },
   "file_extension": ".py",
   "mimetype": "text/x-python",
   "name": "python",
   "nbconvert_exporter": "python",
   "pygments_lexer": "ipython3",
   "version": "3.11.6"
  }
 },
 "nbformat": 4,
 "nbformat_minor": 5
}
