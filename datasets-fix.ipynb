{
 "cells": [
  {
   "cell_type": "code",
   "execution_count": null,
   "id": "411c797b-8143-471c-8417-2fc5bbeaaaa2",
   "metadata": {},
   "outputs": [],
   "source": [
    "import pandas as pd\n",
    "import os\n",
    "from pathlib import Path\n",
    "\n",
    "path = Path(\"data\")\n",
    "entries = [path / entry for entry in os.listdir(path) if entry.endswith(\".csv\")]\n",
    "list(entries)"
   ]
  },
  {
   "cell_type": "code",
   "execution_count": null,
   "id": "5d49b75b-e69f-412a-81b5-e7745f4156a5",
   "metadata": {},
   "outputs": [],
   "source": [
    "for entry in entries[0:3]:\n",
    "    df = pd.read_csv(entry).drop(columns=[\"categoria\"]).drop_duplicates()\n",
    "    df.to_csv(entry, header=True, index=False)"
   ]
  }
 ],
 "metadata": {
  "kernelspec": {
   "display_name": "Python 3 (ipykernel)",
   "language": "python",
   "name": "python3"
  },
  "language_info": {
   "codemirror_mode": {
    "name": "ipython",
    "version": 3
   },
   "file_extension": ".py",
   "mimetype": "text/x-python",
   "name": "python",
   "nbconvert_exporter": "python",
   "pygments_lexer": "ipython3",
   "version": "3.11.6"
  }
 },
 "nbformat": 4,
 "nbformat_minor": 5
}
